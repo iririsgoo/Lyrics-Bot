{
 "cells": [
  {
   "cell_type": "code",
   "execution_count": 1,
   "metadata": {},
   "outputs": [],
   "source": [
    "from bs4 import BeautifulSoup\n",
    "import urllib.request, urllib.error, urllib.parse\n",
    "\n",
    "def generating(artist, title, save):\n",
    "        artist = artist.lower().replace(\" \", \"%20\")\n",
    "        title = title.lower().replace(\" \", \"%20\")\n",
    "        generate_url = 'http://azlyrics.com/lyrics/'+artist+'/'+title +'.html'\n",
    "        processing(generate_url, artist, title, save)\n",
    "        \n",
    "def processing(generate_url, artist, title, save):\n",
    "    response = urllib.request.urlopen(generate_url)\n",
    "    read_lyrics = response.read()\n",
    "    soup = BeautifulSoup(read_lyrics)\n",
    "    lyrics = soup.find_all(\"div\", attrs={\"class\": None, \"id\": None})\n",
    "    lyrics = [x.getText() for x in lyrics]\n",
    "    printing(artist, title, save, lyrics)\n",
    "    \n",
    "def printing(artist, title, save, lyrics):    \n",
    "    for x in lyrics:\n",
    "        print(x, end=\"\\n\\n\")\n",
    "    if save == True:\n",
    "        saving(artist, title, lyrics)\n",
    "    elif save == False:\n",
    "        pass\n",
    "            \n",
    "def saving(artist, title, lyrics):\n",
    "        f = open(artist + '_' + title + '.txt', 'w')\n",
    "        f.write(\"\\n\".join(lyrics).strip())\n",
    "        f.close()"
   ]
  },
  {
   "cell_type": "code",
   "execution_count": 11,
   "metadata": {},
   "outputs": [
    {
     "name": "stdout",
     "output_type": "stream",
     "text": [
      "\n",
      "\r\n",
      "My sweet Lord\n",
      "Hm, my Lord\n",
      "Hm, my Lord\n",
      "\n",
      "I really want to see you\n",
      "Really want to be with you\n",
      "Really want to see you Lord\n",
      "But it takes so long, my Lord\n",
      "\n",
      "My sweet Lord\n",
      "Hm, my Lord\n",
      "Hm, my Lord\n",
      "\n",
      "I really want to know you\n",
      "Really want to go with you\n",
      "Really want to show you Lord\n",
      "That it won't take long, my Lord (Hallelujah)\n",
      "\n",
      "My sweet Lord (Hallelujah)\n",
      "Hm, my Lord (Hallelujah)\n",
      "My sweet Lord (Hallelujah)\n",
      "\n",
      "I really want to see you\n",
      "Really want to see you\n",
      "Really want to see you, Lord\n",
      "Really want to see you, Lord\n",
      "But it takes so long, my Lord (Hallelujah)\n",
      "\n",
      "My sweet Lord (Hallelujah)\n",
      "Hm, my Lord (Hallelujah)\n",
      "My, my, my Lord (Hallelujah)\n",
      "\n",
      "I really want to know you (Hallelujah)\n",
      "Really want to go with you (Hallelujah)\n",
      "Really want to show you Lord (ahh)\n",
      "That it won't take long, my Lord (Hallelujah)\n",
      "\n",
      "Hmm (Hallelujah)\n",
      "My sweet Lord (Hallelujah)\n",
      "My, my, Lord (Hallelujah)\n",
      "\n",
      "Hm, my Lord (Hare Krishna)\n",
      "My, my, my Lord (Hare Krishna)\n",
      "Oh hm, my sweet Lord (Krishna, Krishna)\n",
      "Oh-uuh-uh (Hare Hare)\n",
      "\n",
      "Now, I really want to see you (Hare Rama)\n",
      "Really want to be with you (Hare Rama)\n",
      "Really want to see you Lord (ahh)\n",
      "But it takes so long, my Lord (Hallelujah)\n",
      "\n",
      "Hm, my Lord (Hallelujah)\n",
      "My, my, my Lord (Hare Krishna)\n",
      "My sweet Lord (Hare Krishna)\n",
      "My sweet Lord (Krishna Krishna)\n",
      "My Lord (Hare Hare)\n",
      "Hm, hm (Guru Brahma)\n",
      "Hm, hm (Guru Vishnu)\n",
      "Hm, hm (Guru Devo)\n",
      "Hm, hm (Maheśvaraḥ\n",
      "My sweet Lord (Guru Sākṣāt)\n",
      "My sweet Lord (Para Brahma)\n",
      "My, my, my Lord (Tasmai Srī)\n",
      "My, my, my, my Lord (Guru Namah)\n",
      "My sweet Lord (Hare Rama)\n",
      "\n",
      "[fade:]\n",
      "\n",
      "(Hare Krishna)\n",
      "My sweet Lord (Hare Krishna)\n",
      "My sweet Lord (Krishna Krishna)\n",
      "My Lord (Hare Hare)\n",
      "\n",
      "\n"
     ]
    }
   ],
   "source": [
    "generating('georgeharrison', 'mysweetlord',True)"
   ]
  },
  {
   "cell_type": "code",
   "execution_count": null,
   "metadata": {},
   "outputs": [],
   "source": []
  },
  {
   "cell_type": "code",
   "execution_count": null,
   "metadata": {},
   "outputs": [],
   "source": []
  },
  {
   "cell_type": "code",
   "execution_count": null,
   "metadata": {},
   "outputs": [],
   "source": []
  },
  {
   "cell_type": "code",
   "execution_count": null,
   "metadata": {},
   "outputs": [],
   "source": []
  },
  {
   "cell_type": "code",
   "execution_count": null,
   "metadata": {},
   "outputs": [],
   "source": []
  },
  {
   "cell_type": "code",
   "execution_count": null,
   "metadata": {},
   "outputs": [],
   "source": []
  },
  {
   "cell_type": "code",
   "execution_count": null,
   "metadata": {},
   "outputs": [],
   "source": []
  },
  {
   "cell_type": "code",
   "execution_count": 4,
   "metadata": {},
   "outputs": [
    {
     "ename": "NameError",
     "evalue": "name 'raw_input' is not defined",
     "output_type": "error",
     "traceback": [
      "\u001b[0;31m---------------------------------------------------------------------------\u001b[0m",
      "\u001b[0;31mNameError\u001b[0m                                 Traceback (most recent call last)",
      "\u001b[0;32m<ipython-input-4-821eca9db784>\u001b[0m in \u001b[0;36m<module>\u001b[0;34m\u001b[0m\n\u001b[1;32m      1\u001b[0m \u001b[0;32mif\u001b[0m \u001b[0m__name__\u001b[0m \u001b[0;34m==\u001b[0m \u001b[0;34m'__main__'\u001b[0m\u001b[0;34m:\u001b[0m\u001b[0;34m\u001b[0m\u001b[0;34m\u001b[0m\u001b[0m\n\u001b[0;32m----> 2\u001b[0;31m         \u001b[0mtest\u001b[0m\u001b[0;34m(\u001b[0m\u001b[0;34m)\u001b[0m\u001b[0;34m\u001b[0m\u001b[0;34m\u001b[0m\u001b[0m\n\u001b[0m",
      "\u001b[0;32m<ipython-input-3-6467eefd5e25>\u001b[0m in \u001b[0;36mtest\u001b[0;34m()\u001b[0m\n\u001b[1;32m      1\u001b[0m \u001b[0;32mdef\u001b[0m \u001b[0mtest\u001b[0m\u001b[0;34m(\u001b[0m\u001b[0;34m)\u001b[0m\u001b[0;34m:\u001b[0m\u001b[0;34m\u001b[0m\u001b[0;34m\u001b[0m\u001b[0m\n\u001b[0;32m----> 2\u001b[0;31m         \u001b[0martist\u001b[0m \u001b[0;34m=\u001b[0m \u001b[0mraw_input\u001b[0m\u001b[0;34m(\u001b[0m\u001b[0;34m\"Insert artist: \"\u001b[0m\u001b[0;34m)\u001b[0m\u001b[0;34m\u001b[0m\u001b[0;34m\u001b[0m\u001b[0m\n\u001b[0m\u001b[1;32m      3\u001b[0m         \u001b[0mtitle\u001b[0m \u001b[0;34m=\u001b[0m \u001b[0mraw_input\u001b[0m\u001b[0;34m(\u001b[0m\u001b[0;34m\"Insert title: \"\u001b[0m\u001b[0;34m)\u001b[0m\u001b[0;34m\u001b[0m\u001b[0;34m\u001b[0m\u001b[0m\n\u001b[1;32m      4\u001b[0m \u001b[0;34m\u001b[0m\u001b[0m\n\u001b[1;32m      5\u001b[0m         \u001b[0mapi\u001b[0m\u001b[0;34m.\u001b[0m\u001b[0mazapi\u001b[0m\u001b[0;34m.\u001b[0m\u001b[0mgenerating\u001b[0m\u001b[0;34m(\u001b[0m\u001b[0martist\u001b[0m\u001b[0;34m,\u001b[0m \u001b[0mtitle\u001b[0m\u001b[0;34m,\u001b[0m \u001b[0msave\u001b[0m\u001b[0;34m=\u001b[0m\u001b[0;32mTrue\u001b[0m\u001b[0;34m)\u001b[0m\u001b[0;34m\u001b[0m\u001b[0;34m\u001b[0m\u001b[0m\n",
      "\u001b[0;31mNameError\u001b[0m: name 'raw_input' is not defined"
     ]
    }
   ],
   "source": []
  },
  {
   "cell_type": "code",
   "execution_count": null,
   "metadata": {},
   "outputs": [],
   "source": []
  }
 ],
 "metadata": {
  "kernelspec": {
   "display_name": "Python 3",
   "language": "python",
   "name": "python3"
  },
  "language_info": {
   "codemirror_mode": {
    "name": "ipython",
    "version": 3
   },
   "file_extension": ".py",
   "mimetype": "text/x-python",
   "name": "python",
   "nbconvert_exporter": "python",
   "pygments_lexer": "ipython3",
   "version": "3.7.5"
  }
 },
 "nbformat": 4,
 "nbformat_minor": 4
}
