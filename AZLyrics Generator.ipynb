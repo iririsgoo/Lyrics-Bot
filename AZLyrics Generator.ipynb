{
 "cells": [
  {
   "cell_type": "code",
   "execution_count": 14,
   "metadata": {},
   "outputs": [],
   "source": [
    "from bs4 import BeautifulSoup\n",
    "import urllib.request, urllib.error, urllib.parse\n",
    "\n",
    "def generating(artist, title, save):\n",
    "        artist = artist.lower().replace(\" \", \"%20\")\n",
    "        title = title.lower().replace(\" \", \"%20\")\n",
    "        generate_url = 'http://azlyrics.com/lyrics/'+artist+'/'+title +'.html'\n",
    "        processing(generate_url, artist, title, save)\n",
    "        \n",
    "def processing(generate_url, artist, title, save):\n",
    "    response = urllib.request.urlopen(generate_url)\n",
    "    read_lyrics = response.read()\n",
    "    soup = BeautifulSoup(read_lyrics)\n",
    "    lyrics = soup.find_all(\"div\", attrs={\"class\": None, \"id\": None})\n",
    "    lyrics = [x.getText() for x in lyrics]\n",
    "    printing(artist, title, save, lyrics)\n",
    "    \n",
    "def printing(artist, title, save, lyrics):    \n",
    "    for x in lyrics:\n",
    "        print(x, end=\"\\n\\n\")\n",
    "    if save == True:\n",
    "        saving(artist, title, lyrics)\n",
    "    elif save == False:\n",
    "        pass\n",
    "            \n",
    "def saving(artist, title, lyrics):\n",
    "        f = open(artist + '_' + title + '.txt', 'w')\n",
    "        f.write(\"\\n\".join(lyrics).strip())\n",
    "        f.close()"
   ]
  },
  {
   "cell_type": "code",
   "execution_count": 15,
   "metadata": {},
   "outputs": [
    {
     "name": "stdout",
     "output_type": "stream",
     "text": [
      "\n",
      "\r\n",
      "Creme tangerine and montelimar\n",
      "A ginger sling with a pineapple heart\n",
      "A coffee dessert, yes, you know it's good news\n",
      "But you'll have to have them all pulled out\n",
      "After the Savoy truffle\n",
      "\n",
      "Cool cherry cream, nice apple tart\n",
      "I feel your taste all the time we're apart\n",
      "Coconut fudge really blows down those blues\n",
      "But you'll have to have them all pulled out\n",
      "After the Savoy truffle\n",
      "\n",
      "You might not feel it now\n",
      "But when the pain cuts through\n",
      "You're going to know and how\n",
      "The sweat is going to fill your head\n",
      "When it becomes too much\n",
      "You'll shout aloud\n",
      "\n",
      "[Instrumental/Solo]\n",
      "\n",
      "But you'll have to have them all pulled out\n",
      "After the Savoy truffle\n",
      "\n",
      "You know that what you eat you are\n",
      "But what is sweet now turns so sour\n",
      "We all know obla-dibla-da\n",
      "But can you show me where you are?\n",
      "\n",
      "Creme tangerine and montelimar\n",
      "A ginger sling with a pineapple heart\n",
      "A coffee dessert, yes, you know it's good news\n",
      "But you'll have to have them all pulled out\n",
      "After the Savoy truffle\n",
      "\n",
      "Yes you'll have to have them all pulled out\n",
      "After the Savoy truffle\n",
      "\n",
      "\n"
     ]
    }
   ],
   "source": [
    "generating('beatles', 'savoytruffle',True)"
   ]
  },
  {
   "cell_type": "code",
   "execution_count": null,
   "metadata": {},
   "outputs": [],
   "source": []
  },
  {
   "cell_type": "code",
   "execution_count": null,
   "metadata": {},
   "outputs": [],
   "source": []
  },
  {
   "cell_type": "code",
   "execution_count": null,
   "metadata": {},
   "outputs": [],
   "source": []
  },
  {
   "cell_type": "code",
   "execution_count": null,
   "metadata": {},
   "outputs": [],
   "source": []
  }
 ],
 "metadata": {
  "kernelspec": {
   "display_name": "Python 3",
   "language": "python",
   "name": "python3"
  },
  "language_info": {
   "codemirror_mode": {
    "name": "ipython",
    "version": 3
   },
   "file_extension": ".py",
   "mimetype": "text/x-python",
   "name": "python",
   "nbconvert_exporter": "python",
   "pygments_lexer": "ipython3",
   "version": "3.7.5"
  }
 },
 "nbformat": 4,
 "nbformat_minor": 4
}
